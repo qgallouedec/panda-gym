{
 "cells": [
  {
   "cell_type": "markdown",
   "metadata": {
    "colab_type": "text",
    "id": "view-in-github"
   },
   "source": [
    "<a href=\"https://colab.research.google.com/github/qgallouedec/panda-gym/blob/colab/PickAndPlace.ipynb\" target=\"_parent\"><img src=\"https://colab.research.google.com/assets/colab-badge.svg\" alt=\"Open In Colab\"/></a>"
   ]
  },
  {
   "cell_type": "markdown",
   "metadata": {
    "id": "TFFVaHq_7fSe"
   },
   "source": [
    "# `panda-gym` code example\n",
    "\n",
    "## Install `panda-gym`"
   ]
  },
  {
   "cell_type": "code",
   "execution_count": null,
   "metadata": {},
   "outputs": [],
   "source": [
    "%pip install panda-gym"
   ]
  },
  {
   "cell_type": "markdown",
   "metadata": {
    "id": "qE8atPQm870Q"
   },
   "source": [
    "## Interract"
   ]
  },
  {
   "cell_type": "code",
   "execution_count": null,
   "metadata": {},
   "outputs": [],
   "source": [
    "import gymnasium as gym\n",
    "import panda_gym\n",
    "\n",
    "env = gym.make(\"PandaPickAndPlace-v3\", render_mode=\"rgb_array\")\n",
    "observation, info = env.reset()\n",
    "\n",
    "images = [env.render()]\n",
    "for _ in range(1000):\n",
    "    action = env.action_space.sample()\n",
    "    observation, reward, terminated, truncated, info = env.step(action)\n",
    "    images.append(env.render())\n",
    "\n",
    "    if terminated or truncated:\n",
    "        observation, info = env.reset()\n",
    "        images.append(env.render())\n",
    "\n",
    "env.close()"
   ]
  },
  {
   "cell_type": "markdown",
   "metadata": {
    "id": "Nkl-EtEZ_EQH"
   },
   "source": [
    "## Convert into animation\n"
   ]
  },
  {
   "cell_type": "code",
   "execution_count": null,
   "metadata": {},
   "outputs": [],
   "source": [
    "%pip3 install numpngw\n",
    "from numpngw import write_apng\n",
    "\n",
    "write_apng(\"anim.png\", images, delay=40)  # real-time rendering = 40 ms between frames"
   ]
  },
  {
   "cell_type": "markdown",
   "metadata": {
    "id": "dFadL1ne_NG8"
   },
   "source": [
    "## Show animation"
   ]
  },
  {
   "cell_type": "code",
   "execution_count": null,
   "metadata": {},
   "outputs": [],
   "source": [
    "from IPython.display import Image\n",
    "\n",
    "Image(filename=\"anim.png\")"
   ]
  }
 ],
 "metadata": {
  "kernelspec": {
   "display_name": "Python 3",
   "language": "python",
   "name": "python3"
  },
  "language_info": {
   "name": "python",
   "version": "3.9.6 (default, Sep 26 2022, 11:37:49) \n[Clang 14.0.0 (clang-1400.0.29.202)]"
  },
  "vscode": {
   "interpreter": {
    "hash": "31f2aee4e71d21fbe5cf8b01ff0e069b9275f58929596ceb00d14d90e3e16cd6"
   }
  }
 },
 "nbformat": 4,
 "nbformat_minor": 0
}
